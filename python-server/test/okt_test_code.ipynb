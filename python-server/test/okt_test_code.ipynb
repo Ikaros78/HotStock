{
 "cells": [
  {
   "cell_type": "markdown",
   "metadata": {},
   "source": [
    "#### //XXX : mecab에 비하여 느려, 사용하지 않을 예정 : 비교용도"
   ]
  },
  {
   "cell_type": "code",
   "execution_count": 1,
   "metadata": {},
   "outputs": [],
   "source": [
    "#!pip install pytextrank\n",
    "#!pip install krwordrank\n",
    "#!pip install JPype1>=0.7.0\n",
    "#!pip install konlpy\n",
    "#!pip install textrankr"
   ]
  },
  {
   "cell_type": "code",
   "execution_count": 2,
   "metadata": {},
   "outputs": [],
   "source": [
    "from konlpy.tag import Okt\n",
    "import re\n",
    "from krwordrank.word import KRWordRank\n",
    "from typing import List\n",
    "from konlpy.tag import Okt\n",
    "from krwordrank.word import KRWordRank\n",
    "from typing import List\n",
    "from konlpy.tag import Okt\n",
    "from typing import List\n",
    "from textrankr import TextRank"
   ]
  },
  {
   "cell_type": "code",
   "execution_count": 3,
   "metadata": {},
   "outputs": [],
   "source": [
    "# text = \"서울 지진 피해에 대한 데이터 분석을 위해서는 어떤 종류의 데이터를 사용해야 할지 먼저 생각해보아야 합니다. 예를 들어, 지진 발생 시간, 지진 규모, 지진 발생 지역, 피해 규모 등의 정보가 필요할 것입니다. 서울 지진 피해 분석 예시: 서울 지역에서 최근 몇 년간 발생한 지진 데이터를 수집하여 지진 발생 건수, 지진 규모, 지진 발생 지역 등의 정보를 파악할 수 있습니다. 이를 바탕으로 서울 지역에서 지진 발생이 가장 많은 지역, 지진 규모와 피해 규모 간의 상관 관계, 지진 발생 시간대 등을 분석할 수 있습니다. 또한, 특정 지역에서의 지진 발생 시 피해 규모가 어떻게 나타나는지 분석하여 지진 대비 대응 전략을 마련할 수 있습니다. 서울 지진에 대한 데이터는 국가지진정보센터에서 제공하는 '국내 지진 정보 시스템'에서 확인할 수 있습니다. 이 시스템에서는 지난 1년간의 국내 지진 정보를 확인할 수 있으며, 서울 지역에서 발생한 지진 정보도 포함되어 있습니다. 이를 바탕으로 데이터를 수집하고 분석할 수 있습니다.\"\n",
    "text = \"\"\"\n",
    "더불어민주당 김병욱(분당을) 의원이 수원지방법원 성남지원을 성남지방법원으로 승격하는 내용의 법률 개정안을 대표 발의했다. \n",
    " \n",
    "4일 김 의원실에 따르면 이날 김 의원이 발의한 ‘각급 법원의 설치와 관할구역에 관한 법률 일부개정 법률안’에는 현재 수원지법 산하인 성남지원을 성남지법으로 승격시키는 방안이 담겼다.\n",
    "\n",
    "성남시와 하남·광주·이천·여주시, 양평군을 담당하는 하나의 법원을 만들고 현재 수원지법 산하인 여주지원을 성남지법 산하로 조정하는 내용이다.\n",
    " \n",
    "김 의원은 인구 1400만에 육박하는 경기도에 법원은 수원, 의정부의 2곳에 불과하다며 지방법원을 신설해야 한다고 주장해왔다. 실제로 인구 941만의 서울시에는 5곳의 지방법원이 있다.\n",
    " \n",
    "그가 법원 신설을 주장하는 성남·하남·광주·이천·여주시와 양평군의 경기 동남권에는 200만을 훌쩍 넘기는 도민이 살고 있다. 3년간 10만명 가까이 인구가 급증했다. \n",
    " \n",
    "김 의원은 “인구와 법률서비스 수요 등을 고려할 때 성남지원의 성남지법 승격이 필요하다”며 “경기 동남권 주민이 신속한 법적 권리 구제와 양질의 법률서비스를 받을 수 있기를 기대한다”고 말했다.\"\"\""
   ]
  },
  {
   "cell_type": "code",
   "execution_count": 4,
   "metadata": {},
   "outputs": [
    {
     "data": {
      "text/plain": [
       "['민주당 김병욱 분당 의원 수원지방법원 남지원 성남 지방법원 승격 내용 법률 개정안 대표 발의 김 의원 실 날 김 의원 발의 급 법원 설치 관할 구역 관 법률 일부 개정 법률 안 현재 수원 지법 산 하인 남지원 성남 지법 승격 방안 성남시 하남 광주 이천 여주시 양평군 담당 하나 법원 현재 수원 지법 산 하인 주지원 성남 지법 조정 내용 김 의원 인구 육박 경기도 법원 수원 의정부 곳 지방법원 신설 주장 실제 인구 서울시 곳 지방법원 그 법원 신설 주장 성남 하남 광주 이천 여주시 양평군 경기 동남권 훌쩍 도민 살 가까이 인구 급증 김 의원 인구 법률 서비스 수요 등 고려 때 남지원 성남 지법 승격 며 경기 동남권 주민 법적 권리 구제 양질 법률 서비스 수 고 말']"
      ]
     },
     "execution_count": 4,
     "metadata": {},
     "output_type": "execute_result"
    }
   ],
   "source": [
    "# from konlpy.tag import Okt\n",
    "# import re\n",
    "\n",
    "def split_noun_sentences(text:str):\n",
    "    text.replace('\\n', ' ')\n",
    "    okt = Okt()\n",
    "    result_text = ''\n",
    "    sentence_pos = okt.pos(text, stem=True)\n",
    "    nouns = [word for word, pos in sentence_pos if pos == 'Noun']\n",
    "    result_text = ' '.join(nouns)\n",
    "    noun_single_text_list = []\n",
    "    noun_single_text_list.append(result_text)\n",
    "            \n",
    "    return noun_single_text_list\n",
    "\n",
    "noun_single_text_list = split_noun_sentences(text)\n",
    "noun_single_text_list"
   ]
  },
  {
   "cell_type": "code",
   "execution_count": 5,
   "metadata": {},
   "outputs": [
    {
     "name": "stdout",
     "output_type": "stream",
     "text": [
      "      성남:\t2.7846\n",
      "      법률:\t2.3844\n",
      "      인구:\t2.2483\n",
      "      의원:\t1.9333\n",
      "      경기:\t1.8281\n",
      "      법원:\t1.7000\n",
      "      수원:\t1.6705\n",
      "     남지원:\t1.6049\n",
      "      지법:\t1.4190\n",
      "     여주시:\t1.3476\n",
      "     양평군:\t1.3132\n",
      "      승격:\t1.2772\n",
      "      이천:\t1.2522\n",
      "     동남권:\t1.0955\n",
      "      신설:\t1.0850\n",
      "      지방:\t1.0296\n",
      "      하남:\t1.0291\n",
      "     김병욱:\t1.0212\n",
      "      개정:\t0.9241\n",
      "      서비:\t0.9196\n",
      "      주장:\t0.8927\n",
      "      훌쩍:\t0.8616\n",
      "      하인:\t0.8560\n",
      "      분당:\t0.8381\n",
      "      대표:\t0.8311\n",
      "      광주:\t0.8101\n",
      "      육박:\t0.7585\n",
      "      주민:\t0.7573\n",
      "      법적:\t0.7455\n",
      "      민주:\t0.7422\n",
      "      관할:\t0.7363\n",
      "      담당:\t0.7140\n",
      "      가까:\t0.7088\n",
      "      내용:\t0.7039\n",
      "      구제:\t0.6912\n",
      "      권리:\t0.6763\n",
      "      현재:\t0.6365\n",
      "      방안:\t0.6054\n",
      "      발의:\t0.5996\n",
      "      하나:\t0.5648\n",
      "      도민:\t0.5604\n",
      "      설치:\t0.5507\n",
      "      일부:\t0.5498\n",
      "      수요:\t0.5466\n",
      "      양질:\t0.5428\n",
      "      실제:\t0.5293\n",
      "      의정:\t0.5068\n",
      "      서울:\t0.5055\n",
      "      구역:\t0.5038\n",
      "      주지:\t0.4786\n",
      "      조정:\t0.4757\n",
      "      급증:\t0.3572\n"
     ]
    }
   ],
   "source": [
    "# from krwordrank.word import KRWordRank\n",
    "min_count = 1   # 단어의 최소 출현 빈도수 (그래프 생성 시)\n",
    "max_length = 10 # 단어의 최대 길이\n",
    "wordrank_extractor = KRWordRank(min_count=min_count, max_length=max_length)\n",
    "beta = 0.85    # PageRank의 decaying factor beta\n",
    "max_iter = 20\n",
    "texts = noun_single_text_list\n",
    "keywords, rank, graph = wordrank_extractor.extract(texts, beta, max_iter)\n",
    "for word, r in sorted(keywords.items(), key=lambda x:x[1], reverse=True):\n",
    "        print('%8s:\\t%.4f' % (word, r))"
   ]
  }
 ],
 "metadata": {
  "kernelspec": {
   "display_name": "Python 3",
   "language": "python",
   "name": "python3"
  },
  "language_info": {
   "codemirror_mode": {
    "name": "ipython",
    "version": 3
   },
   "file_extension": ".py",
   "mimetype": "text/x-python",
   "name": "python",
   "nbconvert_exporter": "python",
   "pygments_lexer": "ipython3",
   "version": "3.11.5"
  },
  "orig_nbformat": 4
 },
 "nbformat": 4,
 "nbformat_minor": 2
}
